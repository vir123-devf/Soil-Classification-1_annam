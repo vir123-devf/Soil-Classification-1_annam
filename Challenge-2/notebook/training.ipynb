{
  "nbformat": 4,
  "nbformat_minor": 0,
  "metadata": {
    "colab": {
      "provenance": []
    },
    "kernelspec": {
      "name": "python3",
      "display_name": "Python 3"
    },
    "language_info": {
      "name": "python"
    }
  },
  "cells": [
    {
      "cell_type": "code",
      "execution_count": null,
      "metadata": {
        "id": "nG2h-3cWah1W"
      },
      "outputs": [],
      "source": [
        "\"\"\"\n",
        "\n",
        "Author: Annam.ai IIT Ropar\n",
        "Team Name: SoilClassifiers\n",
        "Team Members: Member-1, Member-2, Member-3, Member-4, Member-5\n",
        "Leaderboard Rank: <Your Rank>\n",
        "\n",
        "\"\"\"\n",
        "\n",
        "# This is the notebook used for training the model."
      ]
    }
  ]
}